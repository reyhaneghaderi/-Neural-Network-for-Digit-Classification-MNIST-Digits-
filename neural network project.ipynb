{
 "cells": [
  {
   "cell_type": "code",
   "execution_count": 1,
   "id": "d5d4f329",
   "metadata": {},
   "outputs": [
    {
     "name": "stdout",
     "output_type": "stream",
     "text": [
      "Defaulting to user installation because normal site-packages is not writeable\n",
      "Collecting tensorflow==2.12\n",
      "  Using cached tensorflow-2.12.0-cp39-cp39-win_amd64.whl.metadata (2.5 kB)\n",
      "Collecting tensorflow-intel==2.12.0 (from tensorflow==2.12)\n",
      "  Using cached tensorflow_intel-2.12.0-cp39-cp39-win_amd64.whl.metadata (4.1 kB)\n",
      "Requirement already satisfied: absl-py>=1.0.0 in c:\\users\\reyha\\appdata\\roaming\\python\\python39\\site-packages (from tensorflow-intel==2.12.0->tensorflow==2.12) (2.2.2)\n",
      "Requirement already satisfied: astunparse>=1.6.0 in c:\\users\\reyha\\appdata\\roaming\\python\\python39\\site-packages (from tensorflow-intel==2.12.0->tensorflow==2.12) (1.6.3)\n",
      "Requirement already satisfied: flatbuffers>=2.0 in c:\\users\\reyha\\appdata\\roaming\\python\\python39\\site-packages (from tensorflow-intel==2.12.0->tensorflow==2.12) (25.2.10)\n",
      "Collecting gast<=0.4.0,>=0.2.1 (from tensorflow-intel==2.12.0->tensorflow==2.12)\n",
      "  Using cached gast-0.4.0-py3-none-any.whl.metadata (1.1 kB)\n",
      "Requirement already satisfied: google-pasta>=0.1.1 in c:\\users\\reyha\\appdata\\roaming\\python\\python39\\site-packages (from tensorflow-intel==2.12.0->tensorflow==2.12) (0.2.0)\n",
      "Requirement already satisfied: h5py>=2.9.0 in c:\\users\\reyha\\appdata\\roaming\\python\\python39\\site-packages (from tensorflow-intel==2.12.0->tensorflow==2.12) (3.13.0)\n",
      "Requirement already satisfied: jax>=0.3.15 in c:\\users\\reyha\\appdata\\roaming\\python\\python39\\site-packages (from tensorflow-intel==2.12.0->tensorflow==2.12) (0.4.30)\n",
      "Requirement already satisfied: libclang>=13.0.0 in c:\\users\\reyha\\appdata\\roaming\\python\\python39\\site-packages (from tensorflow-intel==2.12.0->tensorflow==2.12) (18.1.1)\n",
      "Requirement already satisfied: numpy<1.24,>=1.22 in c:\\users\\reyha\\appdata\\roaming\\python\\python39\\site-packages (from tensorflow-intel==2.12.0->tensorflow==2.12) (1.23.5)\n",
      "Requirement already satisfied: opt-einsum>=2.3.2 in c:\\users\\reyha\\appdata\\roaming\\python\\python39\\site-packages (from tensorflow-intel==2.12.0->tensorflow==2.12) (3.4.0)\n",
      "Requirement already satisfied: packaging in c:\\users\\reyha\\appdata\\roaming\\python\\python39\\site-packages (from tensorflow-intel==2.12.0->tensorflow==2.12) (25.0)\n",
      "Collecting protobuf!=4.21.0,!=4.21.1,!=4.21.2,!=4.21.3,!=4.21.4,!=4.21.5,<5.0.0dev,>=3.20.3 (from tensorflow-intel==2.12.0->tensorflow==2.12)\n",
      "  Using cached protobuf-4.25.7-cp39-cp39-win_amd64.whl.metadata (541 bytes)\n",
      "Requirement already satisfied: setuptools in c:\\program files\\python39\\lib\\site-packages (from tensorflow-intel==2.12.0->tensorflow==2.12) (58.1.0)\n",
      "Requirement already satisfied: six>=1.12.0 in c:\\users\\reyha\\appdata\\roaming\\python\\python39\\site-packages (from tensorflow-intel==2.12.0->tensorflow==2.12) (1.17.0)\n",
      "Requirement already satisfied: termcolor>=1.1.0 in c:\\users\\reyha\\appdata\\roaming\\python\\python39\\site-packages (from tensorflow-intel==2.12.0->tensorflow==2.12) (3.1.0)\n",
      "Requirement already satisfied: typing-extensions>=3.6.6 in c:\\users\\reyha\\appdata\\roaming\\python\\python39\\site-packages (from tensorflow-intel==2.12.0->tensorflow==2.12) (4.13.2)\n",
      "Requirement already satisfied: wrapt<1.15,>=1.11.0 in c:\\users\\reyha\\appdata\\roaming\\python\\python39\\site-packages (from tensorflow-intel==2.12.0->tensorflow==2.12) (1.14.1)\n",
      "Requirement already satisfied: grpcio<2.0,>=1.24.3 in c:\\users\\reyha\\appdata\\roaming\\python\\python39\\site-packages (from tensorflow-intel==2.12.0->tensorflow==2.12) (1.71.0)\n",
      "Collecting tensorboard<2.13,>=2.12 (from tensorflow-intel==2.12.0->tensorflow==2.12)\n",
      "  Using cached tensorboard-2.12.3-py3-none-any.whl.metadata (1.8 kB)\n",
      "Collecting tensorflow-estimator<2.13,>=2.12.0 (from tensorflow-intel==2.12.0->tensorflow==2.12)\n",
      "  Using cached tensorflow_estimator-2.12.0-py2.py3-none-any.whl.metadata (1.3 kB)\n",
      "Collecting keras<2.13,>=2.12.0 (from tensorflow-intel==2.12.0->tensorflow==2.12)\n",
      "  Using cached keras-2.12.0-py2.py3-none-any.whl.metadata (1.4 kB)\n",
      "Collecting tensorflow-io-gcs-filesystem>=0.23.1 (from tensorflow-intel==2.12.0->tensorflow==2.12)\n",
      "  Downloading tensorflow_io_gcs_filesystem-0.31.0-cp39-cp39-win_amd64.whl.metadata (14 kB)\n",
      "Requirement already satisfied: google-auth<3,>=1.6.3 in c:\\users\\reyha\\appdata\\roaming\\python\\python39\\site-packages (from tensorboard<2.13,>=2.12->tensorflow-intel==2.12.0->tensorflow==2.12) (2.40.1)\n",
      "Requirement already satisfied: google-auth-oauthlib<1.1,>=0.5 in c:\\users\\reyha\\appdata\\roaming\\python\\python39\\site-packages (from tensorboard<2.13,>=2.12->tensorflow-intel==2.12.0->tensorflow==2.12) (1.0.0)\n",
      "Requirement already satisfied: markdown>=2.6.8 in c:\\users\\reyha\\appdata\\roaming\\python\\python39\\site-packages (from tensorboard<2.13,>=2.12->tensorflow-intel==2.12.0->tensorflow==2.12) (3.8)\n",
      "Requirement already satisfied: requests<3,>=2.21.0 in c:\\users\\reyha\\appdata\\roaming\\python\\python39\\site-packages (from tensorboard<2.13,>=2.12->tensorflow-intel==2.12.0->tensorflow==2.12) (2.32.3)\n",
      "Collecting tensorboard-data-server<0.8.0,>=0.7.0 (from tensorboard<2.13,>=2.12->tensorflow-intel==2.12.0->tensorflow==2.12)\n",
      "  Downloading tensorboard_data_server-0.7.2-py3-none-any.whl.metadata (1.1 kB)\n",
      "Requirement already satisfied: werkzeug>=1.0.1 in c:\\users\\reyha\\appdata\\roaming\\python\\python39\\site-packages (from tensorboard<2.13,>=2.12->tensorflow-intel==2.12.0->tensorflow==2.12) (3.1.3)\n",
      "Requirement already satisfied: wheel>=0.26 in c:\\users\\reyha\\appdata\\roaming\\python\\python39\\site-packages (from tensorboard<2.13,>=2.12->tensorflow-intel==2.12.0->tensorflow==2.12) (0.45.1)\n",
      "Requirement already satisfied: cachetools<6.0,>=2.0.0 in c:\\users\\reyha\\appdata\\roaming\\python\\python39\\site-packages (from google-auth<3,>=1.6.3->tensorboard<2.13,>=2.12->tensorflow-intel==2.12.0->tensorflow==2.12) (5.5.2)\n",
      "Requirement already satisfied: pyasn1-modules>=0.2.1 in c:\\users\\reyha\\appdata\\roaming\\python\\python39\\site-packages (from google-auth<3,>=1.6.3->tensorboard<2.13,>=2.12->tensorflow-intel==2.12.0->tensorflow==2.12) (0.4.2)\n",
      "Requirement already satisfied: rsa<5,>=3.1.4 in c:\\users\\reyha\\appdata\\roaming\\python\\python39\\site-packages (from google-auth<3,>=1.6.3->tensorboard<2.13,>=2.12->tensorflow-intel==2.12.0->tensorflow==2.12) (4.9.1)\n",
      "Requirement already satisfied: requests-oauthlib>=0.7.0 in c:\\users\\reyha\\appdata\\roaming\\python\\python39\\site-packages (from google-auth-oauthlib<1.1,>=0.5->tensorboard<2.13,>=2.12->tensorflow-intel==2.12.0->tensorflow==2.12) (2.0.0)\n",
      "Requirement already satisfied: charset-normalizer<4,>=2 in c:\\users\\reyha\\appdata\\roaming\\python\\python39\\site-packages (from requests<3,>=2.21.0->tensorboard<2.13,>=2.12->tensorflow-intel==2.12.0->tensorflow==2.12) (3.4.2)\n",
      "Requirement already satisfied: idna<4,>=2.5 in c:\\users\\reyha\\appdata\\roaming\\python\\python39\\site-packages (from requests<3,>=2.21.0->tensorboard<2.13,>=2.12->tensorflow-intel==2.12.0->tensorflow==2.12) (3.10)\n",
      "Requirement already satisfied: urllib3<3,>=1.21.1 in c:\\users\\reyha\\appdata\\roaming\\python\\python39\\site-packages (from requests<3,>=2.21.0->tensorboard<2.13,>=2.12->tensorflow-intel==2.12.0->tensorflow==2.12) (2.4.0)\n",
      "Requirement already satisfied: certifi>=2017.4.17 in c:\\users\\reyha\\appdata\\roaming\\python\\python39\\site-packages (from requests<3,>=2.21.0->tensorboard<2.13,>=2.12->tensorflow-intel==2.12.0->tensorflow==2.12) (2025.4.26)\n",
      "Requirement already satisfied: pyasn1>=0.1.3 in c:\\users\\reyha\\appdata\\roaming\\python\\python39\\site-packages (from rsa<5,>=3.1.4->google-auth<3,>=1.6.3->tensorboard<2.13,>=2.12->tensorflow-intel==2.12.0->tensorflow==2.12) (0.6.1)\n",
      "Requirement already satisfied: jaxlib<=0.4.30,>=0.4.27 in c:\\users\\reyha\\appdata\\roaming\\python\\python39\\site-packages (from jax>=0.3.15->tensorflow-intel==2.12.0->tensorflow==2.12) (0.4.30)\n",
      "Requirement already satisfied: ml-dtypes>=0.2.0 in c:\\users\\reyha\\appdata\\roaming\\python\\python39\\site-packages (from jax>=0.3.15->tensorflow-intel==2.12.0->tensorflow==2.12) (0.5.1)\n",
      "Requirement already satisfied: scipy>=1.9 in c:\\users\\reyha\\appdata\\roaming\\python\\python39\\site-packages (from jax>=0.3.15->tensorflow-intel==2.12.0->tensorflow==2.12) (1.13.1)\n",
      "Requirement already satisfied: importlib-metadata>=4.6 in c:\\users\\reyha\\appdata\\roaming\\python\\python39\\site-packages (from jax>=0.3.15->tensorflow-intel==2.12.0->tensorflow==2.12) (8.7.0)\n",
      "Requirement already satisfied: zipp>=3.20 in c:\\users\\reyha\\appdata\\roaming\\python\\python39\\site-packages (from importlib-metadata>=4.6->jax>=0.3.15->tensorflow-intel==2.12.0->tensorflow==2.12) (3.21.0)\n",
      "Requirement already satisfied: oauthlib>=3.0.0 in c:\\users\\reyha\\appdata\\roaming\\python\\python39\\site-packages (from requests-oauthlib>=0.7.0->google-auth-oauthlib<1.1,>=0.5->tensorboard<2.13,>=2.12->tensorflow-intel==2.12.0->tensorflow==2.12) (3.2.2)\n",
      "Requirement already satisfied: MarkupSafe>=2.1.1 in c:\\users\\reyha\\appdata\\roaming\\python\\python39\\site-packages (from werkzeug>=1.0.1->tensorboard<2.13,>=2.12->tensorflow-intel==2.12.0->tensorflow==2.12) (3.0.2)\n",
      "Using cached tensorflow-2.12.0-cp39-cp39-win_amd64.whl (1.9 kB)\n",
      "Using cached tensorflow_intel-2.12.0-cp39-cp39-win_amd64.whl (272.8 MB)\n",
      "Using cached gast-0.4.0-py3-none-any.whl (9.8 kB)\n",
      "Using cached keras-2.12.0-py2.py3-none-any.whl (1.7 MB)\n",
      "Using cached protobuf-4.25.7-cp39-cp39-win_amd64.whl (413 kB)\n",
      "Using cached tensorboard-2.12.3-py3-none-any.whl (5.6 MB)\n",
      "Downloading tensorboard_data_server-0.7.2-py3-none-any.whl (2.4 kB)\n",
      "Using cached tensorflow_estimator-2.12.0-py2.py3-none-any.whl (440 kB)\n",
      "Downloading tensorflow_io_gcs_filesystem-0.31.0-cp39-cp39-win_amd64.whl (1.5 MB)\n",
      "   ---------------------------------------- 0.0/1.5 MB ? eta -:--:--\n",
      "   ------- -------------------------------- 0.3/1.5 MB ? eta -:--:--\n",
      "   -------------- ------------------------- 0.5/1.5 MB 1.7 MB/s eta 0:00:01\n",
      "   --------------------- ------------------ 0.8/1.5 MB 1.5 MB/s eta 0:00:01\n",
      "   --------------------- ------------------ 0.8/1.5 MB 1.5 MB/s eta 0:00:01\n",
      "   --------------------- ------------------ 0.8/1.5 MB 1.5 MB/s eta 0:00:01\n",
      "   --------------------- ------------------ 0.8/1.5 MB 1.5 MB/s eta 0:00:01\n",
      "   ---------------------------------------- 1.5/1.5 MB 1.0 MB/s eta 0:00:00\n",
      "Installing collected packages: tensorflow-io-gcs-filesystem, tensorflow-estimator, tensorboard-data-server, protobuf, keras, gast, tensorboard, tensorflow-intel, tensorflow\n",
      "\n",
      "   ---- ----------------------------------- 1/9 [tensorflow-estimator]\n",
      "   ---- ----------------------------------- 1/9 [tensorflow-estimator]\n",
      "   ---- ----------------------------------- 1/9 [tensorflow-estimator]\n",
      "   ---- ----------------------------------- 1/9 [tensorflow-estimator]\n",
      "   ---- ----------------------------------- 1/9 [tensorflow-estimator]\n",
      "   ---- ----------------------------------- 1/9 [tensorflow-estimator]\n",
      "   ---- ----------------------------------- 1/9 [tensorflow-estimator]\n",
      "   ---- ----------------------------------- 1/9 [tensorflow-estimator]\n",
      "   ---- ----------------------------------- 1/9 [tensorflow-estimator]\n",
      "   ---- ----------------------------------- 1/9 [tensorflow-estimator]\n",
      "   ---- ----------------------------------- 1/9 [tensorflow-estimator]\n",
      "   ---- ----------------------------------- 1/9 [tensorflow-estimator]\n",
      "   ------------- -------------------------- 3/9 [protobuf]\n",
      "   ------------- -------------------------- 3/9 [protobuf]\n",
      "   ------------- -------------------------- 3/9 [protobuf]\n",
      "   ------------- -------------------------- 3/9 [protobuf]\n",
      "   ------------- -------------------------- 3/9 [protobuf]\n",
      "   ------------- -------------------------- 3/9 [protobuf]\n",
      "   ----------------- ---------------------- 4/9 [keras]\n",
      "   ----------------- ---------------------- 4/9 [keras]\n",
      "   ----------------- ---------------------- 4/9 [keras]\n",
      "   ----------------- ---------------------- 4/9 [keras]\n",
      "   ----------------- ---------------------- 4/9 [keras]\n",
      "   ----------------- ---------------------- 4/9 [keras]\n",
      "   ----------------- ---------------------- 4/9 [keras]\n",
      "   ----------------- ---------------------- 4/9 [keras]\n",
      "   ----------------- ---------------------- 4/9 [keras]\n",
      "   ----------------- ---------------------- 4/9 [keras]\n",
      "   ----------------- ---------------------- 4/9 [keras]\n",
      "   ----------------- ---------------------- 4/9 [keras]\n",
      "   ----------------- ---------------------- 4/9 [keras]\n",
      "   ----------------- ---------------------- 4/9 [keras]\n",
      "   ----------------- ---------------------- 4/9 [keras]\n",
      "   ----------------- ---------------------- 4/9 [keras]\n",
      "   ----------------- ---------------------- 4/9 [keras]\n",
      "   ----------------- ---------------------- 4/9 [keras]\n",
      "   ----------------- ---------------------- 4/9 [keras]\n",
      "   ----------------- ---------------------- 4/9 [keras]\n",
      "   ----------------- ---------------------- 4/9 [keras]\n",
      "   ----------------- ---------------------- 4/9 [keras]\n",
      "   ----------------- ---------------------- 4/9 [keras]\n",
      "   ----------------- ---------------------- 4/9 [keras]\n",
      "   ----------------- ---------------------- 4/9 [keras]\n",
      "   ----------------- ---------------------- 4/9 [keras]\n",
      "   ----------------- ---------------------- 4/9 [keras]\n",
      "   ----------------- ---------------------- 4/9 [keras]\n",
      "   ----------------- ---------------------- 4/9 [keras]\n",
      "   ----------------- ---------------------- 4/9 [keras]\n",
      "   ----------------- ---------------------- 4/9 [keras]\n",
      "   ----------------- ---------------------- 4/9 [keras]\n",
      "   ----------------- ---------------------- 4/9 [keras]\n",
      "   ----------------- ---------------------- 4/9 [keras]\n",
      "   ----------------- ---------------------- 4/9 [keras]\n",
      "   ----------------- ---------------------- 4/9 [keras]\n",
      "   ----------------- ---------------------- 4/9 [keras]\n",
      "   ----------------- ---------------------- 4/9 [keras]\n",
      "   ----------------- ---------------------- 4/9 [keras]\n",
      "   ----------------- ---------------------- 4/9 [keras]\n",
      "   ----------------- ---------------------- 4/9 [keras]\n",
      "   ----------------- ---------------------- 4/9 [keras]\n",
      "   ----------------- ---------------------- 4/9 [keras]\n",
      "   ----------------- ---------------------- 4/9 [keras]\n",
      "   ----------------- ---------------------- 4/9 [keras]\n",
      "   ----------------- ---------------------- 4/9 [keras]\n",
      "   ----------------- ---------------------- 4/9 [keras]\n",
      "   ----------------- ---------------------- 4/9 [keras]\n",
      "   ----------------- ---------------------- 4/9 [keras]\n",
      "   ----------------- ---------------------- 4/9 [keras]\n",
      "   ----------------- ---------------------- 4/9 [keras]\n",
      "   ----------------- ---------------------- 4/9 [keras]\n",
      "   ----------------- ---------------------- 4/9 [keras]\n",
      "   ----------------- ---------------------- 4/9 [keras]\n",
      "   ----------------- ---------------------- 4/9 [keras]\n",
      "   ----------------- ---------------------- 4/9 [keras]\n",
      "   ----------------- ---------------------- 4/9 [keras]\n",
      "   ----------------- ---------------------- 4/9 [keras]\n",
      "   ----------------- ---------------------- 4/9 [keras]\n",
      "   ----------------- ---------------------- 4/9 [keras]\n",
      "   ----------------- ---------------------- 4/9 [keras]\n",
      "   -------------------------- ------------- 6/9 [tensorboard]\n",
      "   -------------------------- ------------- 6/9 [tensorboard]\n",
      "   -------------------------- ------------- 6/9 [tensorboard]\n",
      "   -------------------------- ------------- 6/9 [tensorboard]\n",
      "   -------------------------- ------------- 6/9 [tensorboard]\n",
      "   -------------------------- ------------- 6/9 [tensorboard]\n",
      "   -------------------------- ------------- 6/9 [tensorboard]\n",
      "   -------------------------- ------------- 6/9 [tensorboard]\n",
      "   -------------------------- ------------- 6/9 [tensorboard]\n",
      "   -------------------------- ------------- 6/9 [tensorboard]\n",
      "   -------------------------- ------------- 6/9 [tensorboard]\n",
      "   -------------------------- ------------- 6/9 [tensorboard]\n",
      "   -------------------------- ------------- 6/9 [tensorboard]\n",
      "   -------------------------- ------------- 6/9 [tensorboard]\n",
      "   -------------------------- ------------- 6/9 [tensorboard]\n",
      "   -------------------------- ------------- 6/9 [tensorboard]\n",
      "   -------------------------- ------------- 6/9 [tensorboard]\n",
      "   -------------------------- ------------- 6/9 [tensorboard]\n",
      "   -------------------------- ------------- 6/9 [tensorboard]\n",
      "   -------------------------- ------------- 6/9 [tensorboard]\n",
      "   -------------------------- ------------- 6/9 [tensorboard]\n",
      "   -------------------------- ------------- 6/9 [tensorboard]\n",
      "   -------------------------- ------------- 6/9 [tensorboard]\n",
      "   -------------------------- ------------- 6/9 [tensorboard]\n",
      "   -------------------------- ------------- 6/9 [tensorboard]\n",
      "   -------------------------- ------------- 6/9 [tensorboard]\n",
      "   -------------------------- ------------- 6/9 [tensorboard]\n",
      "   -------------------------- ------------- 6/9 [tensorboard]\n",
      "   -------------------------- ------------- 6/9 [tensorboard]\n",
      "   -------------------------- ------------- 6/9 [tensorboard]\n",
      "   -------------------------- ------------- 6/9 [tensorboard]\n",
      "   ------------------------------- -------- 7/9 [tensorflow-intel]\n",
      "   ------------------------------- -------- 7/9 [tensorflow-intel]\n",
      "   ------------------------------- -------- 7/9 [tensorflow-intel]\n",
      "   ------------------------------- -------- 7/9 [tensorflow-intel]\n",
      "   ------------------------------- -------- 7/9 [tensorflow-intel]\n",
      "   ------------------------------- -------- 7/9 [tensorflow-intel]\n",
      "   ------------------------------- -------- 7/9 [tensorflow-intel]\n",
      "   ------------------------------- -------- 7/9 [tensorflow-intel]\n",
      "   ------------------------------- -------- 7/9 [tensorflow-intel]\n",
      "   ------------------------------- -------- 7/9 [tensorflow-intel]\n",
      "   ------------------------------- -------- 7/9 [tensorflow-intel]\n",
      "   ------------------------------- -------- 7/9 [tensorflow-intel]\n",
      "   ------------------------------- -------- 7/9 [tensorflow-intel]\n",
      "   ------------------------------- -------- 7/9 [tensorflow-intel]\n",
      "   ------------------------------- -------- 7/9 [tensorflow-intel]\n",
      "   ------------------------------- -------- 7/9 [tensorflow-intel]\n",
      "   ------------------------------- -------- 7/9 [tensorflow-intel]\n",
      "   ------------------------------- -------- 7/9 [tensorflow-intel]\n",
      "   ------------------------------- -------- 7/9 [tensorflow-intel]\n",
      "   ------------------------------- -------- 7/9 [tensorflow-intel]\n",
      "   ------------------------------- -------- 7/9 [tensorflow-intel]\n",
      "   ------------------------------- -------- 7/9 [tensorflow-intel]\n",
      "   ------------------------------- -------- 7/9 [tensorflow-intel]\n",
      "   ------------------------------- -------- 7/9 [tensorflow-intel]\n",
      "   ------------------------------- -------- 7/9 [tensorflow-intel]\n",
      "   ------------------------------- -------- 7/9 [tensorflow-intel]\n",
      "   ------------------------------- -------- 7/9 [tensorflow-intel]\n",
      "   ------------------------------- -------- 7/9 [tensorflow-intel]\n",
      "   ------------------------------- -------- 7/9 [tensorflow-intel]\n",
      "   ------------------------------- -------- 7/9 [tensorflow-intel]\n",
      "   ------------------------------- -------- 7/9 [tensorflow-intel]\n",
      "   ------------------------------- -------- 7/9 [tensorflow-intel]\n",
      "   ------------------------------- -------- 7/9 [tensorflow-intel]\n",
      "   ------------------------------- -------- 7/9 [tensorflow-intel]\n",
      "   ------------------------------- -------- 7/9 [tensorflow-intel]\n",
      "   ------------------------------- -------- 7/9 [tensorflow-intel]\n",
      "   ------------------------------- -------- 7/9 [tensorflow-intel]\n",
      "   ------------------------------- -------- 7/9 [tensorflow-intel]\n",
      "   ------------------------------- -------- 7/9 [tensorflow-intel]\n",
      "   ------------------------------- -------- 7/9 [tensorflow-intel]\n",
      "   ------------------------------- -------- 7/9 [tensorflow-intel]\n",
      "   ------------------------------- -------- 7/9 [tensorflow-intel]\n",
      "   ------------------------------- -------- 7/9 [tensorflow-intel]\n",
      "   ------------------------------- -------- 7/9 [tensorflow-intel]\n",
      "   ------------------------------- -------- 7/9 [tensorflow-intel]\n",
      "   ------------------------------- -------- 7/9 [tensorflow-intel]\n",
      "   ------------------------------- -------- 7/9 [tensorflow-intel]\n",
      "   ------------------------------- -------- 7/9 [tensorflow-intel]\n",
      "   ------------------------------- -------- 7/9 [tensorflow-intel]\n",
      "   ------------------------------- -------- 7/9 [tensorflow-intel]\n",
      "   ------------------------------- -------- 7/9 [tensorflow-intel]\n",
      "   ------------------------------- -------- 7/9 [tensorflow-intel]\n",
      "   ------------------------------- -------- 7/9 [tensorflow-intel]\n",
      "   ------------------------------- -------- 7/9 [tensorflow-intel]\n",
      "   ------------------------------- -------- 7/9 [tensorflow-intel]\n",
      "   ------------------------------- -------- 7/9 [tensorflow-intel]\n",
      "   ------------------------------- -------- 7/9 [tensorflow-intel]\n",
      "   ------------------------------- -------- 7/9 [tensorflow-intel]\n",
      "   ------------------------------- -------- 7/9 [tensorflow-intel]\n",
      "   ------------------------------- -------- 7/9 [tensorflow-intel]\n",
      "   ------------------------------- -------- 7/9 [tensorflow-intel]\n",
      "   ------------------------------- -------- 7/9 [tensorflow-intel]\n",
      "   ------------------------------- -------- 7/9 [tensorflow-intel]\n",
      "   ------------------------------- -------- 7/9 [tensorflow-intel]\n",
      "   ------------------------------- -------- 7/9 [tensorflow-intel]\n",
      "   ------------------------------- -------- 7/9 [tensorflow-intel]\n",
      "   ------------------------------- -------- 7/9 [tensorflow-intel]\n",
      "   ------------------------------- -------- 7/9 [tensorflow-intel]\n",
      "   ------------------------------- -------- 7/9 [tensorflow-intel]\n",
      "   ------------------------------- -------- 7/9 [tensorflow-intel]\n",
      "   ------------------------------- -------- 7/9 [tensorflow-intel]\n",
      "   ------------------------------- -------- 7/9 [tensorflow-intel]\n",
      "   ------------------------------- -------- 7/9 [tensorflow-intel]\n",
      "   ------------------------------- -------- 7/9 [tensorflow-intel]\n",
      "   ------------------------------- -------- 7/9 [tensorflow-intel]\n",
      "   ------------------------------- -------- 7/9 [tensorflow-intel]\n",
      "   ------------------------------- -------- 7/9 [tensorflow-intel]\n",
      "   ------------------------------- -------- 7/9 [tensorflow-intel]\n",
      "   ------------------------------- -------- 7/9 [tensorflow-intel]\n",
      "   ------------------------------- -------- 7/9 [tensorflow-intel]\n",
      "   ------------------------------- -------- 7/9 [tensorflow-intel]\n",
      "   ------------------------------- -------- 7/9 [tensorflow-intel]\n",
      "   ------------------------------- -------- 7/9 [tensorflow-intel]\n",
      "   ------------------------------- -------- 7/9 [tensorflow-intel]\n",
      "   ------------------------------- -------- 7/9 [tensorflow-intel]\n",
      "   ------------------------------- -------- 7/9 [tensorflow-intel]\n",
      "   ------------------------------- -------- 7/9 [tensorflow-intel]\n",
      "   ------------------------------- -------- 7/9 [tensorflow-intel]\n",
      "   ------------------------------- -------- 7/9 [tensorflow-intel]\n",
      "   ------------------------------- -------- 7/9 [tensorflow-intel]\n",
      "   ------------------------------- -------- 7/9 [tensorflow-intel]\n",
      "   ------------------------------- -------- 7/9 [tensorflow-intel]\n",
      "   ------------------------------- -------- 7/9 [tensorflow-intel]\n",
      "   ------------------------------- -------- 7/9 [tensorflow-intel]\n",
      "   ------------------------------- -------- 7/9 [tensorflow-intel]\n",
      "   ------------------------------- -------- 7/9 [tensorflow-intel]\n",
      "   ------------------------------- -------- 7/9 [tensorflow-intel]\n",
      "   ------------------------------- -------- 7/9 [tensorflow-intel]\n",
      "   ------------------------------- -------- 7/9 [tensorflow-intel]\n",
      "   ------------------------------- -------- 7/9 [tensorflow-intel]\n",
      "   ------------------------------- -------- 7/9 [tensorflow-intel]\n",
      "   ------------------------------- -------- 7/9 [tensorflow-intel]\n",
      "   ------------------------------- -------- 7/9 [tensorflow-intel]\n",
      "   ------------------------------- -------- 7/9 [tensorflow-intel]\n",
      "   ------------------------------- -------- 7/9 [tensorflow-intel]\n",
      "   ------------------------------- -------- 7/9 [tensorflow-intel]\n",
      "   ------------------------------- -------- 7/9 [tensorflow-intel]\n",
      "   ------------------------------- -------- 7/9 [tensorflow-intel]\n",
      "   ------------------------------- -------- 7/9 [tensorflow-intel]\n",
      "   ------------------------------- -------- 7/9 [tensorflow-intel]\n",
      "   ------------------------------- -------- 7/9 [tensorflow-intel]\n",
      "   ------------------------------- -------- 7/9 [tensorflow-intel]\n",
      "   ------------------------------- -------- 7/9 [tensorflow-intel]\n",
      "   ------------------------------- -------- 7/9 [tensorflow-intel]\n",
      "   ------------------------------- -------- 7/9 [tensorflow-intel]\n",
      "   ------------------------------- -------- 7/9 [tensorflow-intel]\n",
      "   ------------------------------- -------- 7/9 [tensorflow-intel]\n",
      "   ------------------------------- -------- 7/9 [tensorflow-intel]\n",
      "   ------------------------------- -------- 7/9 [tensorflow-intel]\n",
      "   ------------------------------- -------- 7/9 [tensorflow-intel]\n",
      "   ------------------------------- -------- 7/9 [tensorflow-intel]\n",
      "   ------------------------------- -------- 7/9 [tensorflow-intel]\n",
      "   ------------------------------- -------- 7/9 [tensorflow-intel]\n",
      "   ------------------------------- -------- 7/9 [tensorflow-intel]\n",
      "   ------------------------------- -------- 7/9 [tensorflow-intel]\n",
      "   ------------------------------- -------- 7/9 [tensorflow-intel]\n",
      "   ------------------------------- -------- 7/9 [tensorflow-intel]\n",
      "   ------------------------------- -------- 7/9 [tensorflow-intel]\n",
      "   ------------------------------- -------- 7/9 [tensorflow-intel]\n",
      "   ------------------------------- -------- 7/9 [tensorflow-intel]\n",
      "   ------------------------------- -------- 7/9 [tensorflow-intel]\n",
      "   ------------------------------- -------- 7/9 [tensorflow-intel]\n",
      "   ------------------------------- -------- 7/9 [tensorflow-intel]\n",
      "   ------------------------------- -------- 7/9 [tensorflow-intel]\n",
      "   ------------------------------- -------- 7/9 [tensorflow-intel]\n",
      "   ------------------------------- -------- 7/9 [tensorflow-intel]\n",
      "   ------------------------------- -------- 7/9 [tensorflow-intel]\n",
      "   ------------------------------- -------- 7/9 [tensorflow-intel]\n",
      "   ------------------------------- -------- 7/9 [tensorflow-intel]\n",
      "   ------------------------------- -------- 7/9 [tensorflow-intel]\n",
      "   ------------------------------- -------- 7/9 [tensorflow-intel]\n",
      "   ------------------------------- -------- 7/9 [tensorflow-intel]\n",
      "   ------------------------------- -------- 7/9 [tensorflow-intel]\n",
      "   ------------------------------- -------- 7/9 [tensorflow-intel]\n",
      "   ------------------------------- -------- 7/9 [tensorflow-intel]\n",
      "   ------------------------------- -------- 7/9 [tensorflow-intel]\n",
      "   ------------------------------- -------- 7/9 [tensorflow-intel]\n",
      "   ------------------------------- -------- 7/9 [tensorflow-intel]\n",
      "   ------------------------------- -------- 7/9 [tensorflow-intel]\n",
      "   ------------------------------- -------- 7/9 [tensorflow-intel]\n",
      "   ------------------------------- -------- 7/9 [tensorflow-intel]\n",
      "   ------------------------------- -------- 7/9 [tensorflow-intel]\n",
      "   ------------------------------- -------- 7/9 [tensorflow-intel]\n",
      "   ------------------------------- -------- 7/9 [tensorflow-intel]\n",
      "   ------------------------------- -------- 7/9 [tensorflow-intel]\n",
      "   ------------------------------- -------- 7/9 [tensorflow-intel]\n",
      "   ------------------------------- -------- 7/9 [tensorflow-intel]\n",
      "   ------------------------------- -------- 7/9 [tensorflow-intel]\n",
      "   ------------------------------- -------- 7/9 [tensorflow-intel]\n",
      "   ------------------------------- -------- 7/9 [tensorflow-intel]\n",
      "   ------------------------------- -------- 7/9 [tensorflow-intel]\n",
      "   ------------------------------- -------- 7/9 [tensorflow-intel]\n",
      "   ------------------------------- -------- 7/9 [tensorflow-intel]\n",
      "   ------------------------------- -------- 7/9 [tensorflow-intel]\n",
      "   ------------------------------- -------- 7/9 [tensorflow-intel]\n",
      "   ------------------------------- -------- 7/9 [tensorflow-intel]\n",
      "   ------------------------------- -------- 7/9 [tensorflow-intel]\n",
      "   ------------------------------- -------- 7/9 [tensorflow-intel]\n",
      "   ------------------------------- -------- 7/9 [tensorflow-intel]\n",
      "   ------------------------------- -------- 7/9 [tensorflow-intel]\n",
      "   ------------------------------- -------- 7/9 [tensorflow-intel]\n",
      "   ------------------------------- -------- 7/9 [tensorflow-intel]\n",
      "   ------------------------------- -------- 7/9 [tensorflow-intel]\n",
      "   ------------------------------- -------- 7/9 [tensorflow-intel]\n",
      "   ------------------------------- -------- 7/9 [tensorflow-intel]\n",
      "   ------------------------------- -------- 7/9 [tensorflow-intel]\n",
      "   ------------------------------- -------- 7/9 [tensorflow-intel]\n",
      "   ------------------------------- -------- 7/9 [tensorflow-intel]\n",
      "   ------------------------------- -------- 7/9 [tensorflow-intel]\n",
      "   ------------------------------- -------- 7/9 [tensorflow-intel]\n",
      "   ------------------------------- -------- 7/9 [tensorflow-intel]\n",
      "   ------------------------------- -------- 7/9 [tensorflow-intel]\n",
      "   ------------------------------- -------- 7/9 [tensorflow-intel]\n",
      "   ------------------------------- -------- 7/9 [tensorflow-intel]\n",
      "   ------------------------------- -------- 7/9 [tensorflow-intel]\n",
      "   ------------------------------- -------- 7/9 [tensorflow-intel]\n",
      "   ------------------------------- -------- 7/9 [tensorflow-intel]\n",
      "   ------------------------------- -------- 7/9 [tensorflow-intel]\n",
      "   ------------------------------- -------- 7/9 [tensorflow-intel]\n",
      "   ------------------------------- -------- 7/9 [tensorflow-intel]\n",
      "   ------------------------------- -------- 7/9 [tensorflow-intel]\n",
      "   ------------------------------- -------- 7/9 [tensorflow-intel]\n",
      "   ------------------------------- -------- 7/9 [tensorflow-intel]\n",
      "   ------------------------------- -------- 7/9 [tensorflow-intel]\n",
      "   ------------------------------- -------- 7/9 [tensorflow-intel]\n",
      "   ------------------------------- -------- 7/9 [tensorflow-intel]\n",
      "   ------------------------------- -------- 7/9 [tensorflow-intel]\n",
      "   ------------------------------- -------- 7/9 [tensorflow-intel]\n",
      "   ------------------------------- -------- 7/9 [tensorflow-intel]\n",
      "   ------------------------------- -------- 7/9 [tensorflow-intel]\n",
      "   ------------------------------- -------- 7/9 [tensorflow-intel]\n",
      "   ------------------------------- -------- 7/9 [tensorflow-intel]\n",
      "   ------------------------------- -------- 7/9 [tensorflow-intel]\n",
      "   ------------------------------- -------- 7/9 [tensorflow-intel]\n",
      "   ------------------------------- -------- 7/9 [tensorflow-intel]\n",
      "   ------------------------------- -------- 7/9 [tensorflow-intel]\n",
      "   ------------------------------- -------- 7/9 [tensorflow-intel]\n",
      "   ------------------------------- -------- 7/9 [tensorflow-intel]\n",
      "   ------------------------------- -------- 7/9 [tensorflow-intel]\n",
      "   ------------------------------- -------- 7/9 [tensorflow-intel]\n",
      "   ------------------------------- -------- 7/9 [tensorflow-intel]\n",
      "   ------------------------------- -------- 7/9 [tensorflow-intel]\n",
      "   ------------------------------- -------- 7/9 [tensorflow-intel]\n",
      "   ------------------------------- -------- 7/9 [tensorflow-intel]\n",
      "   ------------------------------- -------- 7/9 [tensorflow-intel]\n",
      "   ------------------------------- -------- 7/9 [tensorflow-intel]\n",
      "   ------------------------------- -------- 7/9 [tensorflow-intel]\n",
      "   ------------------------------- -------- 7/9 [tensorflow-intel]\n",
      "   ------------------------------- -------- 7/9 [tensorflow-intel]\n",
      "   ------------------------------- -------- 7/9 [tensorflow-intel]\n",
      "   ------------------------------- -------- 7/9 [tensorflow-intel]\n",
      "   ------------------------------- -------- 7/9 [tensorflow-intel]\n",
      "   ------------------------------- -------- 7/9 [tensorflow-intel]\n",
      "   ------------------------------- -------- 7/9 [tensorflow-intel]\n",
      "   ------------------------------- -------- 7/9 [tensorflow-intel]\n",
      "   ------------------------------- -------- 7/9 [tensorflow-intel]\n",
      "   ------------------------------- -------- 7/9 [tensorflow-intel]\n",
      "   ------------------------------- -------- 7/9 [tensorflow-intel]\n",
      "   ------------------------------- -------- 7/9 [tensorflow-intel]\n",
      "   ------------------------------- -------- 7/9 [tensorflow-intel]\n",
      "   ------------------------------- -------- 7/9 [tensorflow-intel]\n",
      "   ------------------------------- -------- 7/9 [tensorflow-intel]\n",
      "   ------------------------------- -------- 7/9 [tensorflow-intel]\n",
      "   ------------------------------- -------- 7/9 [tensorflow-intel]\n",
      "   ------------------------------- -------- 7/9 [tensorflow-intel]\n",
      "   ------------------------------- -------- 7/9 [tensorflow-intel]\n",
      "   ------------------------------- -------- 7/9 [tensorflow-intel]\n",
      "   ------------------------------- -------- 7/9 [tensorflow-intel]\n",
      "   ------------------------------- -------- 7/9 [tensorflow-intel]\n",
      "   ------------------------------- -------- 7/9 [tensorflow-intel]\n",
      "   ------------------------------- -------- 7/9 [tensorflow-intel]\n",
      "   ------------------------------- -------- 7/9 [tensorflow-intel]\n",
      "   ------------------------------- -------- 7/9 [tensorflow-intel]\n",
      "   ------------------------------- -------- 7/9 [tensorflow-intel]\n",
      "   ------------------------------- -------- 7/9 [tensorflow-intel]\n",
      "   ------------------------------- -------- 7/9 [tensorflow-intel]\n",
      "   ------------------------------- -------- 7/9 [tensorflow-intel]\n",
      "   ------------------------------- -------- 7/9 [tensorflow-intel]\n",
      "   ------------------------------- -------- 7/9 [tensorflow-intel]\n",
      "   ------------------------------- -------- 7/9 [tensorflow-intel]\n",
      "   ------------------------------- -------- 7/9 [tensorflow-intel]\n",
      "   ------------------------------- -------- 7/9 [tensorflow-intel]\n",
      "   ------------------------------- -------- 7/9 [tensorflow-intel]\n",
      "   ------------------------------- -------- 7/9 [tensorflow-intel]\n",
      "   ------------------------------- -------- 7/9 [tensorflow-intel]\n",
      "   ------------------------------- -------- 7/9 [tensorflow-intel]\n",
      "   ------------------------------- -------- 7/9 [tensorflow-intel]\n",
      "   ------------------------------- -------- 7/9 [tensorflow-intel]\n",
      "   ------------------------------- -------- 7/9 [tensorflow-intel]\n",
      "   ------------------------------- -------- 7/9 [tensorflow-intel]\n",
      "   ------------------------------- -------- 7/9 [tensorflow-intel]\n",
      "   ------------------------------- -------- 7/9 [tensorflow-intel]\n",
      "   ------------------------------- -------- 7/9 [tensorflow-intel]\n",
      "   ------------------------------- -------- 7/9 [tensorflow-intel]\n",
      "   ------------------------------- -------- 7/9 [tensorflow-intel]\n",
      "   ------------------------------- -------- 7/9 [tensorflow-intel]\n",
      "   ------------------------------- -------- 7/9 [tensorflow-intel]\n",
      "   ------------------------------- -------- 7/9 [tensorflow-intel]\n",
      "   ------------------------------- -------- 7/9 [tensorflow-intel]\n",
      "   ------------------------------- -------- 7/9 [tensorflow-intel]\n",
      "   ------------------------------- -------- 7/9 [tensorflow-intel]\n",
      "   ------------------------------- -------- 7/9 [tensorflow-intel]\n",
      "   ------------------------------- -------- 7/9 [tensorflow-intel]\n",
      "   ------------------------------- -------- 7/9 [tensorflow-intel]\n",
      "   ------------------------------- -------- 7/9 [tensorflow-intel]\n",
      "   ---------------------------------------- 9/9 [tensorflow]\n",
      "\n",
      "Successfully installed gast-0.4.0 keras-2.12.0 protobuf-4.25.7 tensorboard-2.12.3 tensorboard-data-server-0.7.2 tensorflow-2.12.0 tensorflow-estimator-2.12.0 tensorflow-intel-2.12.0 tensorflow-io-gcs-filesystem-0.31.0\n",
      "Note: you may need to restart the kernel to use updated packages.\n"
     ]
    }
   ],
   "source": [
    "pip install tensorflow==2.12\n"
   ]
  },
  {
   "cell_type": "code",
   "execution_count": 3,
   "id": "a6e02460",
   "metadata": {},
   "outputs": [],
   "source": [
    "import tensorflow as tf"
   ]
  },
  {
   "cell_type": "code",
   "execution_count": null,
   "id": "7474a70b",
   "metadata": {},
   "outputs": [],
   "source": []
  },
  {
   "cell_type": "code",
   "execution_count": 7,
   "id": "529a0aa3",
   "metadata": {},
   "outputs": [],
   "source": [
    "model=tf.keras.models.Sequential([\n",
    "    tf.keras.layers.Dense(units=\"32\",activation=\"relu\",input_shape=(20,)),\n",
    "    tf.keras.layers.Dense(units=\"32\",activation=\"relu\"),\n",
    "    tf.keras.layers.Dense(units=\"10\",activation=\"softmax\")\n",
    "])"
   ]
  },
  {
   "cell_type": "code",
   "execution_count": 9,
   "id": "df255833",
   "metadata": {},
   "outputs": [
    {
     "name": "stdout",
     "output_type": "stream",
     "text": [
      "Model: \"sequential\"\n",
      "_________________________________________________________________\n",
      " Layer (type)                Output Shape              Param #   \n",
      "=================================================================\n",
      " dense (Dense)               (None, 32)                672       \n",
      "                                                                 \n",
      " dense_1 (Dense)             (None, 32)                1056      \n",
      "                                                                 \n",
      " dense_2 (Dense)             (None, 10)                330       \n",
      "                                                                 \n",
      "=================================================================\n",
      "Total params: 2,058\n",
      "Trainable params: 2,058\n",
      "Non-trainable params: 0\n",
      "_________________________________________________________________\n"
     ]
    }
   ],
   "source": [
    "model.summary()"
   ]
  },
  {
   "cell_type": "code",
   "execution_count": 10,
   "id": "9f83080e",
   "metadata": {},
   "outputs": [],
   "source": [
    "model2=tf.keras.models.Sequential()\n",
    "model2.add(tf.keras.layers.Dense(units=\"32\",activation=\"relu\",input_shape=(20,)))\n",
    "model2.add( tf.keras.layers.Dense(units=\"32\",activation=\"relu\")) \n",
    "model2.add( tf.keras.layers.Dense(units=\"10\",activation=\"softmax\"))          "
   ]
  },
  {
   "cell_type": "code",
   "execution_count": 12,
   "id": "f57c49c3",
   "metadata": {},
   "outputs": [
    {
     "ename": "AttributeError",
     "evalue": "module 'tensorflow' has no attribute 'optimizerS'",
     "output_type": "error",
     "traceback": [
      "\u001b[1;31m---------------------------------------------------------------------------\u001b[0m",
      "\u001b[1;31mAttributeError\u001b[0m                            Traceback (most recent call last)",
      "Cell \u001b[1;32mIn[12], line 2\u001b[0m\n\u001b[0;32m      1\u001b[0m model\u001b[38;5;241m.\u001b[39mcompile(loss\u001b[38;5;241m=\u001b[39mtf\u001b[38;5;241m.\u001b[39mlosses\u001b[38;5;241m.\u001b[39mCategoricalCrossentropy(),\n\u001b[1;32m----> 2\u001b[0m               optimizer\u001b[38;5;241m=\u001b[39m\u001b[43mtf\u001b[49m\u001b[38;5;241;43m.\u001b[39;49m\u001b[43moptimizerS\u001b[49m\u001b[38;5;241m.\u001b[39mAdam(learning_rate\u001b[38;5;241m=\u001b[39m\u001b[38;5;241m0.01\u001b[39m),\n\u001b[0;32m      3\u001b[0m               metrics\u001b[38;5;241m=\u001b[39mtf\u001b[38;5;241m.\u001b[39mmetrics\u001b[38;5;241m.\u001b[39mAccuracy())\n",
      "\u001b[1;31mAttributeError\u001b[0m: module 'tensorflow' has no attribute 'optimizerS'"
     ]
    }
   ],
   "source": [
    "model.compile(loss=tf.losses.CategoricalCrossentropy(),\n",
    "              optimizer=tf.optimizerS.Adam(learning_rate=0.01),\n",
    "              metrics=tf.metrics.Accuracy())"
   ]
  },
  {
   "cell_type": "code",
   "execution_count": 1,
   "id": "22c9ca05",
   "metadata": {},
   "outputs": [
    {
     "ename": "NameError",
     "evalue": "name 'model' is not defined",
     "output_type": "error",
     "traceback": [
      "\u001b[1;31m---------------------------------------------------------------------------\u001b[0m",
      "\u001b[1;31mNameError\u001b[0m                                 Traceback (most recent call last)",
      "Cell \u001b[1;32mIn[1], line 1\u001b[0m\n\u001b[1;32m----> 1\u001b[0m \u001b[43mmodel\u001b[49m\u001b[38;5;241m.\u001b[39mcompile(\n\u001b[0;32m      2\u001b[0m     loss\u001b[38;5;241m=\u001b[39mtf\u001b[38;5;241m.\u001b[39mkeras\u001b[38;5;241m.\u001b[39mlosses\u001b[38;5;241m.\u001b[39mCategoricalCrossentropy(),\n\u001b[0;32m      3\u001b[0m     optimizer\u001b[38;5;241m=\u001b[39mtf\u001b[38;5;241m.\u001b[39mkeras\u001b[38;5;241m.\u001b[39moptimizers\u001b[38;5;241m.\u001b[39mAdam(learning_rate\u001b[38;5;241m=\u001b[39m\u001b[38;5;241m0.01\u001b[39m),\n\u001b[0;32m      4\u001b[0m     metrics\u001b[38;5;241m=\u001b[39m[tf\u001b[38;5;241m.\u001b[39mkeras\u001b[38;5;241m.\u001b[39mmetrics\u001b[38;5;241m.\u001b[39mCategoricalAccuracy()]\n\u001b[0;32m      5\u001b[0m )\n",
      "\u001b[1;31mNameError\u001b[0m: name 'model' is not defined"
     ]
    }
   ],
   "source": [
    "model.compile(\n",
    "    loss=tf.keras.losses.CategoricalCrossentropy(),\n",
    "    optimizer=tf.keras.optimizers.Adam(learning_rate=0.01),\n",
    "    metrics=[tf.keras.metrics.CategoricalAccuracy()]\n",
    ")\n"
   ]
  },
  {
   "cell_type": "code",
   "execution_count": 2,
   "id": "98ed87fb",
   "metadata": {},
   "outputs": [],
   "source": [
    "import tensorflow as tf\n",
    "import numpy as np\n",
    "import pandas as pd\n",
    "import matplotlib.pyplot as plt\n",
    "from sklearn import datasets"
   ]
  },
  {
   "cell_type": "code",
   "execution_count": 3,
   "id": "02ca9241",
   "metadata": {},
   "outputs": [],
   "source": [
    "digits=datasets.load_digits()"
   ]
  },
  {
   "cell_type": "code",
   "execution_count": 4,
   "id": "9a8862de",
   "metadata": {},
   "outputs": [],
   "source": [
    "images=digits.images"
   ]
  },
  {
   "cell_type": "code",
   "execution_count": 5,
   "id": "2caef1d2",
   "metadata": {},
   "outputs": [
    {
     "name": "stdout",
     "output_type": "stream",
     "text": [
      ".. _digits_dataset:\n",
      "\n",
      "Optical recognition of handwritten digits dataset\n",
      "--------------------------------------------------\n",
      "\n",
      "**Data Set Characteristics:**\n",
      "\n",
      "    :Number of Instances: 1797\n",
      "    :Number of Attributes: 64\n",
      "    :Attribute Information: 8x8 image of integer pixels in the range 0..16.\n",
      "    :Missing Attribute Values: None\n",
      "    :Creator: E. Alpaydin (alpaydin '@' boun.edu.tr)\n",
      "    :Date: July; 1998\n",
      "\n",
      "This is a copy of the test set of the UCI ML hand-written digits datasets\n",
      "https://archive.ics.uci.edu/ml/datasets/Optical+Recognition+of+Handwritten+Digits\n",
      "\n",
      "The data set contains images of hand-written digits: 10 classes where\n",
      "each class refers to a digit.\n",
      "\n",
      "Preprocessing programs made available by NIST were used to extract\n",
      "normalized bitmaps of handwritten digits from a preprinted form. From a\n",
      "total of 43 people, 30 contributed to the training set and different 13\n",
      "to the test set. 32x32 bitmaps are divided into nonoverlapping blocks of\n",
      "4x4 and the number of on pixels are counted in each block. This generates\n",
      "an input matrix of 8x8 where each element is an integer in the range\n",
      "0..16. This reduces dimensionality and gives invariance to small\n",
      "distortions.\n",
      "\n",
      "For info on NIST preprocessing routines, see M. D. Garris, J. L. Blue, G.\n",
      "T. Candela, D. L. Dimmick, J. Geist, P. J. Grother, S. A. Janet, and C.\n",
      "L. Wilson, NIST Form-Based Handprint Recognition System, NISTIR 5469,\n",
      "1994.\n",
      "\n",
      ".. topic:: References\n",
      "\n",
      "  - C. Kaynak (1995) Methods of Combining Multiple Classifiers and Their\n",
      "    Applications to Handwritten Digit Recognition, MSc Thesis, Institute of\n",
      "    Graduate Studies in Science and Engineering, Bogazici University.\n",
      "  - E. Alpaydin, C. Kaynak (1998) Cascading Classifiers, Kybernetika.\n",
      "  - Ken Tang and Ponnuthurai N. Suganthan and Xi Yao and A. Kai Qin.\n",
      "    Linear dimensionalityreduction using relevance weighted LDA. School of\n",
      "    Electrical and Electronic Engineering Nanyang Technological University.\n",
      "    2005.\n",
      "  - Claudio Gentile. A New Approximate Maximal Margin Classification\n",
      "    Algorithm. NIPS. 2000.\n",
      "\n"
     ]
    }
   ],
   "source": [
    "print(digits.DESCR)"
   ]
  },
  {
   "cell_type": "code",
   "execution_count": 14,
   "id": "6ba70634",
   "metadata": {},
   "outputs": [
    {
     "data": {
      "text/plain": [
       "<matplotlib.image.AxesImage at 0x278092abdf0>"
      ]
     },
     "execution_count": 14,
     "metadata": {},
     "output_type": "execute_result"
    },
    {
     "data": {
      "image/png": "[encoded data removed]",
      "text/plain": [
       "<Figure size 640x480 with 1 Axes>"
      ]
     },
     "metadata": {},
     "output_type": "display_data"
    }
   ],
   "source": [
    "plt.imshow(images[0],cmap=\"gray\")"
   ]
  },
  {
   "cell_type": "code",
   "execution_count": 15,
   "id": "e6137a29",
   "metadata": {},
   "outputs": [],
   "source": [
    "X=digits.data/16\n",
    "y=digits.target"
   ]
  },
  {
   "cell_type": "code",
   "execution_count": 16,
   "id": "982b50d2",
   "metadata": {},
   "outputs": [],
   "source": [
    "import tensorflow as tf\n",
    "from tensorflow import keras"
   ]
  },
  {
   "cell_type": "code",
   "execution_count": 19,
   "id": "4434a929",
   "metadata": {},
   "outputs": [],
   "source": [
    "y=keras.utils.to_categorical(y,num_classes=10)"
   ]
  },
  {
   "cell_type": "code",
   "execution_count": 18,
   "id": "e402ae14",
   "metadata": {},
   "outputs": [],
   "source": [
    "from sklearn.model_selection import train_test_split"
   ]
  },
  {
   "cell_type": "code",
   "execution_count": 31,
   "id": "3253a794",
   "metadata": {},
   "outputs": [],
   "source": [
    "X_train,X_test,y_train,y_test=train_test_split(X,y,test_size=0.3)"
   ]
  },
  {
   "cell_type": "code",
   "execution_count": 29,
   "id": "55cd1cb5",
   "metadata": {},
   "outputs": [],
   "source": [
    "model=tf.keras.models.Sequential()\n",
    "model.add(keras.layers.Dense(units=32,activation=\"relu\",input_shape=(64,))),\n",
    "model.add(keras.layers.Dense(units=32,activation=\"relu\")),\n",
    "model.add(keras.layers.Dense(units=10,activation=\"softmax\"))                   "
   ]
  },
  {
   "cell_type": "code",
   "execution_count": 32,
   "id": "1e6119d3",
   "metadata": {},
   "outputs": [
    {
     "name": "stdout",
     "output_type": "stream",
     "text": [
      "Model: \"sequential_2\"\n",
      "_________________________________________________________________\n",
      " Layer (type)                Output Shape              Param #   \n",
      "=================================================================\n",
      " dense_2 (Dense)             (None, 32)                2080      \n",
      "                                                                 \n",
      " dense_3 (Dense)             (None, 32)                1056      \n",
      "                                                                 \n",
      " dense_4 (Dense)             (None, 10)                330       \n",
      "                                                                 \n",
      "=================================================================\n",
      "Total params: 3,466\n",
      "Trainable params: 3,466\n",
      "Non-trainable params: 0\n",
      "_________________________________________________________________\n"
     ]
    }
   ],
   "source": [
    "model.summary()"
   ]
  },
  {
   "cell_type": "code",
   "execution_count": 41,
   "id": "451bc3d4",
   "metadata": {},
   "outputs": [],
   "source": [
    "opt=tf.optimizers.Adam(learning_rate=0.01)\n",
    "loss=tf.losses.CategoricalCrossentropy()\n",
    "metric=tf.metrics.CategoricalAccuracy()\n",
    "model.compile(loss=loss,optimizer=opt,metrics=metric)\n"
   ]
  },
  {
   "cell_type": "code",
   "execution_count": 55,
   "id": "032dcacf",
   "metadata": {},
   "outputs": [
    {
     "name": "stdout",
     "output_type": "stream",
     "text": [
      "Epoch 1/5\n",
      "26/26 - 0s - loss: 0.1097 - categorical_accuracy: 0.9626 - 46ms/epoch - 2ms/step\n",
      "Epoch 2/5\n",
      "26/26 - 0s - loss: 0.1194 - categorical_accuracy: 0.9634 - 26ms/epoch - 1ms/step\n",
      "Epoch 3/5\n",
      "26/26 - 0s - loss: 0.0631 - categorical_accuracy: 0.9825 - 13ms/epoch - 500us/step\n",
      "Epoch 4/5\n",
      "26/26 - 0s - loss: 0.0306 - categorical_accuracy: 0.9920 - 39ms/epoch - 1ms/step\n",
      "Epoch 5/5\n",
      "26/26 - 0s - loss: 0.0171 - categorical_accuracy: 0.9984 - 11ms/epoch - 422us/step\n"
     ]
    },
    {
     "data": {
      "text/plain": [
       "<keras.callbacks.History at 0x2780cc1c280>"
      ]
     },
     "execution_count": 55,
     "metadata": {},
     "output_type": "execute_result"
    }
   ],
   "source": [
    "model.fit(X_train,y_train,epochs=5,batch_size=50,verbose=2)"
   ]
  },
  {
   "cell_type": "code",
   "execution_count": 56,
   "id": "4c6dbc64",
   "metadata": {},
   "outputs": [
    {
     "name": "stdout",
     "output_type": "stream",
     "text": [
      "Epoch 1/5\n",
      "26/26 - 0s - loss: 0.0142 - categorical_accuracy: 0.9984 - 26ms/epoch - 1ms/step\n",
      "Epoch 2/5\n",
      "26/26 - 0s - loss: 0.0127 - categorical_accuracy: 0.9992 - 10ms/epoch - 385us/step\n",
      "Epoch 3/5\n",
      "26/26 - 0s - loss: 0.0117 - categorical_accuracy: 0.9984 - 47ms/epoch - 2ms/step\n",
      "Epoch 4/5\n",
      "26/26 - 0s - loss: 0.0111 - categorical_accuracy: 0.9992 - 33ms/epoch - 1ms/step\n",
      "Epoch 5/5\n",
      "26/26 - 0s - loss: 0.0104 - categorical_accuracy: 0.9992 - 34ms/epoch - 1ms/step\n"
     ]
    },
    {
     "data": {
      "text/plain": [
       "<keras.callbacks.History at 0x2780dca5d60>"
      ]
     },
     "execution_count": 56,
     "metadata": {},
     "output_type": "execute_result"
    }
   ],
   "source": [
    "model.fit(X_train,y_train,epochs=5,batch_size=50,verbose=2)"
   ]
  },
  {
   "cell_type": "code",
   "execution_count": 57,
   "id": "522f7a6c",
   "metadata": {},
   "outputs": [
    {
     "name": "stdout",
     "output_type": "stream",
     "text": [
      "Epoch 1/10\n",
      "26/26 - 0s - loss: 0.0100 - categorical_accuracy: 0.9992 - 10ms/epoch - 393us/step\n",
      "Epoch 2/10\n",
      "26/26 - 0s - loss: 0.0099 - categorical_accuracy: 0.9992 - 21ms/epoch - 811us/step\n",
      "Epoch 3/10\n",
      "26/26 - 0s - loss: 0.0094 - categorical_accuracy: 0.9992 - 27ms/epoch - 1ms/step\n",
      "Epoch 4/10\n",
      "26/26 - 0s - loss: 0.0094 - categorical_accuracy: 0.9992 - 18ms/epoch - 688us/step\n",
      "Epoch 5/10\n",
      "26/26 - 0s - loss: 0.0092 - categorical_accuracy: 0.9992 - 33ms/epoch - 1ms/step\n",
      "Epoch 6/10\n",
      "26/26 - 0s - loss: 0.0097 - categorical_accuracy: 0.9992 - 36ms/epoch - 1ms/step\n",
      "Epoch 7/10\n",
      "26/26 - 0s - loss: 0.0116 - categorical_accuracy: 0.9992 - 40ms/epoch - 2ms/step\n",
      "Epoch 8/10\n",
      "26/26 - 0s - loss: 0.0091 - categorical_accuracy: 0.9992 - 34ms/epoch - 1ms/step\n",
      "Epoch 9/10\n",
      "26/26 - 0s - loss: 0.0085 - categorical_accuracy: 0.9992 - 49ms/epoch - 2ms/step\n",
      "Epoch 10/10\n",
      "26/26 - 0s - loss: 0.0090 - categorical_accuracy: 0.9992 - 36ms/epoch - 1ms/step\n"
     ]
    },
    {
     "data": {
      "text/plain": [
       "<keras.callbacks.History at 0x2780dcad580>"
      ]
     },
     "execution_count": 57,
     "metadata": {},
     "output_type": "execute_result"
    }
   ],
   "source": [
    "model.fit(X_train,y_train,epochs=10,batch_size=50,verbose=2)"
   ]
  },
  {
   "cell_type": "code",
   "execution_count": 60,
   "id": "41b73438",
   "metadata": {},
   "outputs": [
    {
     "name": "stdout",
     "output_type": "stream",
     "text": [
      "40/40 [==============================] - 0s 810us/step - loss: 0.0081 - categorical_accuracy: 0.9992\n"
     ]
    },
    {
     "data": {
      "text/plain": [
       "[0.008148400112986565, 0.9992044568061829]"
      ]
     },
     "execution_count": 60,
     "metadata": {},
     "output_type": "execute_result"
    }
   ],
   "source": [
    "model.evaluate(X_train,y_train)"
   ]
  },
  {
   "cell_type": "code",
   "execution_count": null,
   "id": "2b96f32a",
   "metadata": {},
   "outputs": [],
   "source": []
  }
 ],
 "metadata": {
  "kernelspec": {
   "display_name": "base",
   "language": "python",
   "name": "python3"
  },
  "language_info": {
   "codemirror_mode": {
    "name": "ipython",
    "version": 3
   },
   "file_extension": ".py",
   "mimetype": "text/x-python",
   "name": "python",
   "nbconvert_exporter": "python",
   "pygments_lexer": "ipython3",
   "version": "3.9.13"
  }
 },
 "nbformat": 4,
 "nbformat_minor": 5
}
